{
 "cells": [
  {
   "cell_type": "markdown",
   "metadata": {},
   "source": [
    "Subodh Rai<br>\n",
    "subodhrai898@gmail.com<br>\n",
    "**Computer Vision Problem**<br>\n",
    "Image Classification using CNN network\n"
   ]
  },
  {
   "cell_type": "code",
   "execution_count": 100,
   "metadata": {
    "_cell_guid": "b1076dfc-b9ad-4769-8c92-a6c4dae69d19",
    "_uuid": "8f2839f25d086af736a60e9eeb907d3b93b6e0e5"
   },
   "outputs": [
    {
     "name": "stdout",
     "output_type": "stream",
     "text": [
      "['subodh', 'fashionmnist', 'sk1234']\n"
     ]
    }
   ],
   "source": [
    "# This Python 3 environment comes with many helpful analytics libraries installed\n",
    "# It is defined by the kaggle/python docker image: https://github.com/kaggle/docker-python\n",
    "# For example, here's several helpful packages to load in \n",
    "\n",
    "import numpy as np # linear algebra\n",
    "import pandas as pd # data processing, CSV file I/O (e.g. pd.read_csv)\n",
    "\n",
    "# Input data files are available in the \"../input/\" directory.\n",
    "# For example, running this (by clicking run or pressing Shift+Enter) will list the files in the input directory\n",
    "\n",
    "import os\n",
    "print(os.listdir(\"../input\"))\n",
    "\n",
    "# Any results you write to the current directory are saved as output."
   ]
  },
  {
   "cell_type": "code",
   "execution_count": null,
   "metadata": {},
   "outputs": [],
   "source": []
  },
  {
   "cell_type": "code",
   "execution_count": null,
   "metadata": {
    "_cell_guid": "79c7e3d0-c299-4dcb-8224-4455121ee9b0",
    "_uuid": "d629ff2d2480ee46fbb7e2d37f6b5fab8052498a"
   },
   "outputs": [],
   "source": []
  },
  {
   "cell_type": "code",
   "execution_count": 101,
   "metadata": {},
   "outputs": [],
   "source": [
    "# from sklearn.preprocessing import StandardScaler\n",
    "# X = StandardScaler().fit_transform(np.float32(X))"
   ]
  },
  {
   "cell_type": "markdown",
   "metadata": {},
   "source": [
    "Import Necessary data from pickle file<br>\n",
    "X = Training Data<br>\n",
    "Y = Labels<br>\n",
    "textx = Test Data"
   ]
  },
  {
   "cell_type": "code",
   "execution_count": 102,
   "metadata": {},
   "outputs": [
    {
     "name": "stdout",
     "output_type": "stream",
     "text": [
      "(8000, 784)\n",
      "(8000,)\n",
      "[0 0 0 0 0 0 0 0 0 0 0 0 0 0 0 0 0 0 0 0 0 0 0 0 0 0 0 0 0 0 0 0 0 0 0 0 0\n",
      " 0 0 0 0 0 0 0 0 0 0 0]\n"
     ]
    }
   ],
   "source": [
    "import numpy as np\n",
    "X = np.load('../input/subodh/train_image.pkl')\n",
    "X = np.array(X)\n",
    "Y = np.load('../input/subodh/train_label.pkl')\n",
    "Y = np.array(Y)\n",
    "testx = np.load('../input/sk1234/test_image.pkl')\n",
    "testx = np.array(testx)\n",
    "print(X.shape)\n",
    "print(Y.shape)\n",
    "print(X[20,127:175])\n"
   ]
  },
  {
   "cell_type": "markdown",
   "metadata": {},
   "source": [
    "The given Data is in flatten form<br>\n",
    "so we reshape it 28X28<br>\n",
    "but before That we normalize the data"
   ]
  },
  {
   "cell_type": "code",
   "execution_count": 103,
   "metadata": {},
   "outputs": [],
   "source": [
    "#standardizing data\n",
    "X = X/255 \n",
    "testx = testx/255\n",
    "X_new = X\n",
    "\n"
   ]
  },
  {
   "cell_type": "markdown",
   "metadata": {},
   "source": [
    "Also we Label Classes as series form.<br>\n",
    "Use sklearn LabelEncoder for it.<br>"
   ]
  },
  {
   "cell_type": "code",
   "execution_count": 104,
   "metadata": {},
   "outputs": [
    {
     "name": "stdout",
     "output_type": "stream",
     "text": [
      "[0 0 0 0 0 0 0 0 0 0 0 0 0 0 0 0 0 0 0 0]\n",
      "[0 2 3 6]\n",
      "[0 1 2 3]\n",
      "[0 0 0 0 0 0 0 0 0 0 0 0 0 0 0 0 0 0 0 0]\n"
     ]
    }
   ],
   "source": [
    "print(Y[:20])                          #original labels\n",
    "from numpy import argmax\n",
    "from sklearn.preprocessing import LabelEncoder\n",
    "from sklearn.preprocessing import OneHotEncoder\n",
    "# define example\n",
    "data = [0,2,3,6]\n",
    "values = np.array(data)\n",
    "print(values)\n",
    "# integer encode\n",
    "label_encoder = LabelEncoder()\n",
    "label_encoder.fit(values)\n",
    "vl = label_encoder.transform(values)\n",
    "print(vl)\n",
    "Y2 = label_encoder.transform(Y)              #new Label\n",
    "print(Y2[:20])"
   ]
  },
  {
   "cell_type": "markdown",
   "metadata": {},
   "source": [
    "After that we split data with size 0.1 and stratify it so that each class have same number of example"
   ]
  },
  {
   "cell_type": "code",
   "execution_count": 105,
   "metadata": {},
   "outputs": [],
   "source": [
    "from sklearn.model_selection import train_test_split\n",
    "X_train, X_test, y_train, y_test = train_test_split(X, Y2, test_size=0.1, random_state=0,stratify=Y2)\n",
    "tb_t = y_test"
   ]
  },
  {
   "cell_type": "code",
   "execution_count": null,
   "metadata": {},
   "outputs": [],
   "source": []
  },
  {
   "cell_type": "code",
   "execution_count": 106,
   "metadata": {},
   "outputs": [
    {
     "data": {
      "text/plain": [
       "<matplotlib.image.AxesImage at 0x7fe0f0523208>"
      ]
     },
     "execution_count": 106,
     "metadata": {},
     "output_type": "execute_result"
    },
    {
     "data": {
      "image/png": "[encoded data removed]",
      "text/plain": [
       "<Figure size 432x288 with 1 Axes>"
      ]
     },
     "metadata": {},
     "output_type": "display_data"
    }
   ],
   "source": [
    "import matplotlib.pyplot as plt\n",
    "plt.imshow(np.resize(X_train[5],(28,28)),cmap='gray')"
   ]
  },
  {
   "cell_type": "markdown",
   "metadata": {},
   "source": [
    "Now here we resize Data in 28X28X1 to fed it into our CNN Network"
   ]
  },
  {
   "cell_type": "code",
   "execution_count": 107,
   "metadata": {},
   "outputs": [],
   "source": [
    "X_new = np.resize(X_new,(X_new.shape[0],28,28,1))\n",
    "X_train = np.resize(X_train,(X_train.shape[0],28,28,1))\n",
    "X_test = np.resize(X_test,(X_test.shape[0],28,28,1))\n",
    "testx = np.resize(testx,(testx.shape[0],28,28,1))"
   ]
  },
  {
   "cell_type": "code",
   "execution_count": null,
   "metadata": {},
   "outputs": [],
   "source": [
    "\n"
   ]
  },
  {
   "cell_type": "markdown",
   "metadata": {},
   "source": [
    "Convert Output labels to Categorical Data"
   ]
  },
  {
   "cell_type": "code",
   "execution_count": 108,
   "metadata": {},
   "outputs": [
    {
     "name": "stdout",
     "output_type": "stream",
     "text": [
      "[[0. 0. 0. 1.]\n",
      " [1. 0. 0. 0.]\n",
      " [0. 1. 0. 0.]\n",
      " [0. 0. 1. 0.]\n",
      " [0. 0. 1. 0.]]\n"
     ]
    }
   ],
   "source": [
    "from numpy import argmax\n",
    "from keras.utils import to_categorical\n",
    "# define example\n",
    "# one hot encode\n",
    "y_train= to_categorical(y_train)\n",
    "y_test = to_categorical(y_test)\n",
    "Y_new = to_categorical(Y2)\n",
    "print(y_test[:5])\n"
   ]
  },
  {
   "cell_type": "code",
   "execution_count": null,
   "metadata": {},
   "outputs": [],
   "source": []
  },
  {
   "cell_type": "code",
   "execution_count": 109,
   "metadata": {},
   "outputs": [],
   "source": [
    "# from keras.datasets import fashion_mnist\n",
    "\n",
    "# (x_train, y_train), (x_test, y_test) = fashion_mnist.load_data()"
   ]
  },
  {
   "cell_type": "code",
   "execution_count": 110,
   "metadata": {},
   "outputs": [],
   "source": [
    "# from keras.datasets import fashion_mnist\n",
    "\n",
    "# (x_train, y_train), (x_test, y_test) = fashion_mnist.load_data()\n",
    "# print(y_test.shape)\n",
    "# x_train = x_train/255\n",
    "# x_test = x_test/255\n",
    "# X_train = np.resize(x_train,(x_train.shape[0],28,28,1))\n",
    "# X_test = np.resize(x_test,(x_test.shape[0],28,28,1))\n",
    "# from numpy import argmax\n",
    "# from keras.utils import to_categorical\n",
    "# # define example\n",
    "# # one hot encode\n",
    "# y_train= to_categorical(y_train)\n",
    "# y_test = to_categorical(y_test)\n",
    "# print(y_test.shape)\n",
    "# print(X_test.shape)"
   ]
  },
  {
   "cell_type": "markdown",
   "metadata": {},
   "source": [
    "We build our CNN(convolution neural network ) using Keras backend to Tensorflow<br>\n",
    "Now in this model we use SEQUENTIAL MODEL with DENSE LAYER\n",
    "WE ALSO USE DROPOUT to regularize it"
   ]
  },
  {
   "cell_type": "code",
   "execution_count": 111,
   "metadata": {},
   "outputs": [],
   "source": [
    "#Import necessary file\n",
    "from keras import layers\n",
    "from keras.layers import Input, Dense, Activation, ZeroPadding2D, BatchNormalization, Flatten, Conv2D\n",
    "from keras.layers import AveragePooling2D, MaxPooling2D, Dropout, GlobalMaxPooling2D, GlobalAveragePooling2D\n",
    "from keras.utils import np_utils\n",
    "from keras.models import Sequential\n",
    "from keras.callbacks import ModelCheckpoint\n",
    "import pandas as pd\n",
    "from keras.metrics import categorical_accuracy\n"
   ]
  },
  {
   "cell_type": "markdown",
   "metadata": {},
   "source": [
    "This is our Sequential model<br>\n",
    "first layer is our CNN layer with 32 filters and Kernel size of 3X3 this layer will take 28x28x1 \n",
    "also each layer has Relu activation<br>\n",
    "BatchNormalization  is used after each layer to reduce overfitting.\n",
    "A pooling layer is used to reduce the paramters.<br>\n",
    "Architecture<br>\n",
    "Layer 1-> CNN 32 filters<br>\n",
    "          BatchNormalization<br>\n",
    "          MaxPool<br>\n",
    "Layer 2-> CNN 64 filters<br>\n",
    "          BatchNormalization<br>\n",
    "          MaxPool<br>\n",
    " Layer 3-> CNN 128 filters<br>\n",
    "          BatchNormalization<br>\n",
    "          MaxPool<br>\n",
    "          Dropout\n",
    "<br>\n",
    "Layer 4->Dense 512<br>\n",
    "Layer 5->Dense output 4 activation 'Softmax'<br>\n",
    "\n",
    "OPtimizer = 'Adam' lr = 0.06\n",
    "Loss = 'Categorical cross Entropy'\n",
    "          "
   ]
  },
  {
   "cell_type": "code",
   "execution_count": 112,
   "metadata": {},
   "outputs": [
    {
     "name": "stderr",
     "output_type": "stream",
     "text": [
      "/opt/conda/lib/python3.6/site-packages/ipykernel_launcher.py:4: UserWarning: Update your `Conv2D` call to the Keras 2 API: `Conv2D(32, kernel_size=(3, 3), input_shape=(28, 28, 1..., activation=\"relu\", padding=\"same\", kernel_initializer=\"glorot_uniform\")`\n",
      "  after removing the cwd from sys.path.\n"
     ]
    }
   ],
   "source": [
    "num_of_classes = 4\n",
    "\n",
    "cnn2 = Sequential()\n",
    "cnn2.add(Conv2D(32, kernel_size=(3, 3),init='glorot_uniform',input_shape=(28,28,1),activation='relu',padding='same'))\n",
    "cnn2.add(BatchNormalization())\n",
    "cnn2.add(MaxPooling2D(pool_size=(3, 3), strides=(2,2), padding='same'))\n",
    "\n",
    "\n",
    "cnn2.add(Conv2D(64, kernel_size=3,activation='relu',padding = 'same'))\n",
    "cnn2.add(BatchNormalization())\n",
    "cnn2.add(MaxPooling2D(pool_size=(3, 3), strides=(2,2), padding='same'))\n",
    "\n",
    "\n",
    "cnn2.add(Conv2D(128, kernel_size=3,activation='relu',padding = 'same'))\n",
    "cnn2.add(BatchNormalization())\n",
    "cnn2.add(MaxPooling2D(pool_size=(3, 3), strides=(2,2), padding='same'))\n",
    "cnn2.add(Dropout(0.25))\n",
    "\n",
    "\n",
    "cnn2.add(Flatten())\n",
    "cnn2.add(Dense(512, activation='relu'))\n",
    "cnn2.add(Dropout(0.5))\n",
    "cnn2.add(Dense(num_of_classes, activation='softmax'))\n",
    "cnn2.compile(loss = 'categorical_crossentropy', optimizer = 'Adam' , metrics = ['accuracy'])\n"
   ]
  },
  {
   "cell_type": "markdown",
   "metadata": {},
   "source": [
    "Summary of the model"
   ]
  },
  {
   "cell_type": "code",
   "execution_count": 113,
   "metadata": {},
   "outputs": [
    {
     "name": "stdout",
     "output_type": "stream",
     "text": [
      "_________________________________________________________________\n",
      "Layer (type)                 Output Shape              Param #   \n",
      "=================================================================\n",
      "conv2d_16 (Conv2D)           (None, 28, 28, 32)        320       \n",
      "_________________________________________________________________\n",
      "batch_normalization_16 (Batc (None, 28, 28, 32)        128       \n",
      "_________________________________________________________________\n",
      "max_pooling2d_16 (MaxPooling (None, 14, 14, 32)        0         \n",
      "_________________________________________________________________\n",
      "conv2d_17 (Conv2D)           (None, 14, 14, 64)        18496     \n",
      "_________________________________________________________________\n",
      "batch_normalization_17 (Batc (None, 14, 14, 64)        256       \n",
      "_________________________________________________________________\n",
      "max_pooling2d_17 (MaxPooling (None, 7, 7, 64)          0         \n",
      "_________________________________________________________________\n",
      "conv2d_18 (Conv2D)           (None, 7, 7, 128)         73856     \n",
      "_________________________________________________________________\n",
      "batch_normalization_18 (Batc (None, 7, 7, 128)         512       \n",
      "_________________________________________________________________\n",
      "max_pooling2d_18 (MaxPooling (None, 4, 4, 128)         0         \n",
      "_________________________________________________________________\n",
      "dropout_11 (Dropout)         (None, 4, 4, 128)         0         \n",
      "_________________________________________________________________\n",
      "flatten_6 (Flatten)          (None, 2048)              0         \n",
      "_________________________________________________________________\n",
      "dense_11 (Dense)             (None, 512)               1049088   \n",
      "_________________________________________________________________\n",
      "dropout_12 (Dropout)         (None, 512)               0         \n",
      "_________________________________________________________________\n",
      "dense_12 (Dense)             (None, 4)                 2052      \n",
      "=================================================================\n",
      "Total params: 1,144,708\n",
      "Trainable params: 1,144,260\n",
      "Non-trainable params: 448\n",
      "_________________________________________________________________\n"
     ]
    }
   ],
   "source": [
    "cnn2.summary()"
   ]
  },
  {
   "cell_type": "markdown",
   "metadata": {},
   "source": [
    "\"Before Fit we augment data for this we use ImageDataGenerator of Keras with shear and horizontal flip\""
   ]
  },
  {
   "cell_type": "code",
   "execution_count": 114,
   "metadata": {},
   "outputs": [
    {
     "name": "stdout",
     "output_type": "stream",
     "text": [
      "Epoch 1/20\n",
      "256/256 [==============================] - 27s 106ms/step - loss: 0.7602 - acc: 0.7637 - val_loss: 0.3892 - val_acc: 0.8450\n",
      "Epoch 2/20\n",
      "256/256 [==============================] - 26s 102ms/step - loss: 0.3713 - acc: 0.8548 - val_loss: 0.3102 - val_acc: 0.8763\n",
      "Epoch 3/20\n",
      "256/256 [==============================] - 26s 103ms/step - loss: 0.3118 - acc: 0.8787 - val_loss: 0.2264 - val_acc: 0.9150\n",
      "Epoch 4/20\n",
      "256/256 [==============================] - 26s 102ms/step - loss: 0.2723 - acc: 0.8945 - val_loss: 0.2013 - val_acc: 0.9112\n",
      "Epoch 5/20\n",
      "256/256 [==============================] - 26s 102ms/step - loss: 0.2422 - acc: 0.9065 - val_loss: 0.1959 - val_acc: 0.9212\n",
      "Epoch 6/20\n",
      "256/256 [==============================] - 28s 108ms/step - loss: 0.2158 - acc: 0.9156 - val_loss: 0.1328 - val_acc: 0.9400\n",
      "Epoch 7/20\n",
      "256/256 [==============================] - 27s 105ms/step - loss: 0.1937 - acc: 0.9243 - val_loss: 0.1273 - val_acc: 0.9563\n",
      "Epoch 8/20\n",
      "256/256 [==============================] - 26s 101ms/step - loss: 0.1735 - acc: 0.9320 - val_loss: 0.1219 - val_acc: 0.9488\n",
      "Epoch 9/20\n",
      "256/256 [==============================] - 26s 102ms/step - loss: 0.1614 - acc: 0.9371 - val_loss: 0.1283 - val_acc: 0.9487\n",
      "Epoch 10/20\n",
      "256/256 [==============================] - 26s 103ms/step - loss: 0.1486 - acc: 0.9431 - val_loss: 0.1218 - val_acc: 0.9475\n",
      "Epoch 11/20\n",
      "256/256 [==============================] - 26s 102ms/step - loss: 0.1356 - acc: 0.9487 - val_loss: 0.1090 - val_acc: 0.9525\n",
      "Epoch 12/20\n",
      "256/256 [==============================] - 26s 103ms/step - loss: 0.1233 - acc: 0.9526 - val_loss: 0.0805 - val_acc: 0.9712\n",
      "Epoch 13/20\n",
      "256/256 [==============================] - 26s 103ms/step - loss: 0.1165 - acc: 0.9556 - val_loss: 0.0829 - val_acc: 0.9663\n",
      "Epoch 14/20\n",
      "256/256 [==============================] - 26s 103ms/step - loss: 0.1089 - acc: 0.9584 - val_loss: 0.0497 - val_acc: 0.9838\n",
      "Epoch 15/20\n",
      "256/256 [==============================] - 26s 103ms/step - loss: 0.1004 - acc: 0.9621 - val_loss: 0.1443 - val_acc: 0.9438\n",
      "Epoch 16/20\n",
      "256/256 [==============================] - 26s 102ms/step - loss: 0.0998 - acc: 0.9617 - val_loss: 0.0639 - val_acc: 0.9750\n",
      "Epoch 17/20\n",
      "256/256 [==============================] - 26s 101ms/step - loss: 0.0931 - acc: 0.9652 - val_loss: 0.1299 - val_acc: 0.9563\n",
      "Epoch 18/20\n",
      "256/256 [==============================] - 28s 109ms/step - loss: 0.0884 - acc: 0.9662 - val_loss: 0.0492 - val_acc: 0.9825\n",
      "Epoch 19/20\n",
      "256/256 [==============================] - 26s 102ms/step - loss: 0.0857 - acc: 0.9681 - val_loss: 0.1057 - val_acc: 0.9600\n",
      "Epoch 20/20\n",
      "256/256 [==============================] - 26s 101ms/step - loss: 0.0797 - acc: 0.9704 - val_loss: 0.0587 - val_acc: 0.9750\n"
     ]
    }
   ],
   "source": [
    "from keras.preprocessing.image import ImageDataGenerator\n",
    "ft = ImageDataGenerator(                                      #Data Augmentation\n",
    "        shear_range=0.2,\n",
    "        zoom_range=0.2,\n",
    "        horizontal_flip=True)\n",
    "history2 = cnn2.fit_generator(ft.flow(X_new, Y_new, batch_size=512),     #Batch of 512 and generator ft\n",
    "                          steps_per_epoch = 256,              \n",
    "                          epochs =20,\n",
    "                          validation_data = (X_test,y_test),\n",
    "                          validation_steps = 500)\n"
   ]
  },
  {
   "cell_type": "markdown",
   "metadata": {},
   "source": [
    "Plot of accuracy, loss and val_loss"
   ]
  },
  {
   "cell_type": "code",
   "execution_count": 121,
   "metadata": {},
   "outputs": [
    {
     "data": {
      "image/png": "[encoded data removed]",
      "text/plain": [
       "<Figure size 432x288 with 1 Axes>"
      ]
     },
     "metadata": {},
     "output_type": "display_data"
    }
   ],
   "source": [
    "import matplotlib.pyplot as plt\n",
    "plt.plot(history2.history['acc'])\n",
    "plt.plot(history2.history['val_acc'])\n",
    "plt.title('model accuracy')\n",
    "plt.ylabel('accuracy')\n",
    "plt.xlabel('epoch')\n",
    "plt.legend(['train', 'test'], loc='upper left')\n",
    "plt.show()\n"
   ]
  },
  {
   "cell_type": "code",
   "execution_count": 122,
   "metadata": {},
   "outputs": [
    {
     "data": {
      "image/png": "[encoded data removed]",
      "text/plain": [
       "<Figure size 432x288 with 1 Axes>"
      ]
     },
     "metadata": {},
     "output_type": "display_data"
    }
   ],
   "source": [
    "# summarize history for loss\n",
    "plt.plot(history2.history['loss'])\n",
    "plt.plot(history2.history['val_loss'])\n",
    "plt.title('model loss')\n",
    "plt.ylabel('loss')\n",
    "plt.xlabel('epoch')\n",
    "plt.legend(['train', 'test'], loc='upper left')\n",
    "plt.show()"
   ]
  },
  {
   "cell_type": "markdown",
   "metadata": {},
   "source": [
    "Prediction of Classes"
   ]
  },
  {
   "cell_type": "code",
   "execution_count": 123,
   "metadata": {},
   "outputs": [],
   "source": [
    "y_t = cnn2.predict_classes(testx)"
   ]
  },
  {
   "cell_type": "code",
   "execution_count": 124,
   "metadata": {},
   "outputs": [
    {
     "name": "stdout",
     "output_type": "stream",
     "text": [
      "490\n",
      "488\n",
      "451\n",
      "571\n"
     ]
    }
   ],
   "source": [
    "t1 = y_t==1\n",
    "t2 = y_t==0\n",
    "t3 = y_t==2\n",
    "t4 = y_t==3\n",
    "print(t1.sum())\n",
    "print(t2.sum())\n",
    "print(t3.sum())\n",
    "print(t4.sum())"
   ]
  },
  {
   "cell_type": "markdown",
   "metadata": {},
   "source": [
    "Label Converion"
   ]
  },
  {
   "cell_type": "code",
   "execution_count": 125,
   "metadata": {},
   "outputs": [
    {
     "name": "stdout",
     "output_type": "stream",
     "text": [
      "[0 3 0 0 0 0 0 0 0 0]\n",
      "490\n",
      "488\n",
      "451\n",
      "571\n"
     ]
    }
   ],
   "source": [
    "print(y_t[:10])\n",
    "\n",
    "for i in range(y_t.shape[0]):\n",
    "    if y_t[i]==1:\n",
    "        y_t[i]=2\n",
    "    elif y_t[i]==2:\n",
    "        y_t[i]=3\n",
    "    elif y_t[i]==3:\n",
    "        y_t[i]=6\n",
    "    else:\n",
    "        y_t[i]=0\n",
    "\n",
    "\n",
    "t1 = y_t==2\n",
    "t2 = y_t==0\n",
    "t3 = y_t==3\n",
    "t4 = y_t==6\n",
    "print(t1.sum())\n",
    "print(t2.sum())\n",
    "print(t3.sum())\n",
    "print(t4.sum())\n",
    "\n"
   ]
  },
  {
   "cell_type": "markdown",
   "metadata": {},
   "source": [
    "Create a DataFrame using Pandas and dump our output to it"
   ]
  },
  {
   "cell_type": "code",
   "execution_count": 126,
   "metadata": {},
   "outputs": [],
   "source": [
    "import pandas as pd\n",
    "lt = [x for x in range(y_t.shape[0])]\n",
    "bt = []\n",
    "for i in range(y_t.shape[0]):\n",
    "    bt.append(y_t[i])\n",
    "\n",
    "dt = {'image_index':lt,\n",
    "        'class':bt}\n",
    "df = pd.DataFrame(dt)\n",
    "df.to_csv('subodh_kumar_rai4.csv',index=False)\n"
   ]
  },
  {
   "cell_type": "code",
   "execution_count": null,
   "metadata": {},
   "outputs": [],
   "source": []
  },
  {
   "cell_type": "code",
   "execution_count": null,
   "metadata": {},
   "outputs": [],
   "source": []
  }
 ],
 "metadata": {
  "kernelspec": {
   "display_name": "Python 3",
   "language": "python",
   "name": "python3"
  },
  "language_info": {
   "codemirror_mode": {
    "name": "ipython",
    "version": 3
   },
   "file_extension": ".py",
   "mimetype": "text/x-python",
   "name": "python",
   "nbconvert_exporter": "python",
   "pygments_lexer": "ipython3",
   "version": "3.6.7"
  }
 },
 "nbformat": 4,
 "nbformat_minor": 1
}
